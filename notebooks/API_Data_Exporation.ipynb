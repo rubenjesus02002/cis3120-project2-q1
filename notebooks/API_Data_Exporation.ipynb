{
  "nbformat": 4,
  "nbformat_minor": 0,
  "metadata": {
    "colab": {
      "provenance": [],
      "authorship_tag": "ABX9TyPGg4ZFf8zspbRh9kLGq9/R",
      "include_colab_link": true
    },
    "kernelspec": {
      "name": "python3",
      "display_name": "Python 3"
    },
    "language_info": {
      "name": "python"
    }
  },
  "cells": [
    {
      "cell_type": "markdown",
      "metadata": {
        "id": "view-in-github",
        "colab_type": "text"
      },
      "source": [
        "<a href=\"https://colab.research.google.com/github/rubenjesus02002/cis3120-project2-q1/blob/main/API_Data_Exporation.ipynb\" target=\"_parent\"><img src=\"https://colab.research.google.com/assets/colab-badge.svg\" alt=\"Open In Colab\"/></a>"
      ]
    },
    {
      "cell_type": "markdown",
      "source": [
        "#**API Data Exploration**"
      ],
      "metadata": {
        "id": "IXW_UgTjvcop"
      }
    },
    {
      "cell_type": "markdown",
      "source": [
        "#**Task:** Explore the data given by the mma fighters API. Understand the formatting of each request in order to scrape and run analysis.\n",
        "\n"
      ],
      "metadata": {
        "id": "6rB4xgJOvrqq"
      }
    },
    {
      "cell_type": "code",
      "source": [
        "import requests\n",
        "from bs4 import BeautifulSoup\n",
        "import pandas as pd\n",
        "import json"
      ],
      "metadata": {
        "id": "tTgeuRF1RAA4"
      },
      "execution_count": 2,
      "outputs": []
    },
    {
      "cell_type": "code",
      "source": [
        "#url = f\"https://mmaapi.p.rapidapi.com/api/mma/search/INPUT FIGHTER\""
      ],
      "metadata": {
        "id": "VZkycKoTvmV6"
      },
      "execution_count": 3,
      "outputs": []
    },
    {
      "cell_type": "code",
      "source": [
        "url = f\"https://mmaapi.p.rapidapi.com/api/mma/search/plessis\"\n",
        "headers = {\n",
        "\t\"x-rapidapi-key\": \"YOUR_API_KEY\",\n",
        "\t\"x-rapidapi-host\": \"mmaapi.p.rapidapi.com\"\n",
        "}"
      ],
      "metadata": {
        "id": "9Ri_MfmEwNU2"
      },
      "execution_count": 4,
      "outputs": []
    },
    {
      "cell_type": "code",
      "source": [
        "response = requests.get(url, headers=headers)\n",
        "response.status_code\n"
      ],
      "metadata": {
        "colab": {
          "base_uri": "https://localhost:8080/"
        },
        "id": "d0g5HvRhwwxI",
        "outputId": "af22baed-f725-485d-9098-b51399c65ab5"
      },
      "execution_count": 5,
      "outputs": [
        {
          "output_type": "execute_result",
          "data": {
            "text/plain": [
              "429"
            ]
          },
          "metadata": {},
          "execution_count": 5
        }
      ]
    },
    {
      "cell_type": "code",
      "source": [
        "data = response.json()\n",
        "print(data)"
      ],
      "metadata": {
        "colab": {
          "base_uri": "https://localhost:8080/"
        },
        "id": "-UQDME81QEBl",
        "outputId": "866c115a-b002-4661-84eb-c62af0ba6f7e"
      },
      "execution_count": 6,
      "outputs": [
        {
          "output_type": "stream",
          "name": "stdout",
          "text": [
            "{'message': 'You have exceeded the DAILY quota for Requests on your current plan, BASIC. Upgrade your plan at https://rapidapi.com/fluis.lacasse/api/mmaapi'}\n"
          ]
        }
      ]
    },
    {
      "cell_type": "code",
      "source": [
        "entity = data['results'][0]['entity']\n",
        "entity\n",
        "\n",
        "\n",
        "# CODE WONT RUN DUE TO EXCEEDED API REQUESTS\n"
      ],
      "metadata": {
        "colab": {
          "base_uri": "https://localhost:8080/",
          "height": 162
        },
        "id": "bAfpIO3ZO7zd",
        "outputId": "e3c2ded4-33df-4731-c502-f2210319e80f"
      },
      "execution_count": 30,
      "outputs": [
        {
          "output_type": "error",
          "ename": "KeyError",
          "evalue": "'results'",
          "traceback": [
            "\u001b[0;31m---------------------------------------------------------------------------\u001b[0m",
            "\u001b[0;31mKeyError\u001b[0m                                  Traceback (most recent call last)",
            "\u001b[0;32m/tmp/ipython-input-2451553338.py\u001b[0m in \u001b[0;36m<cell line: 0>\u001b[0;34m()\u001b[0m\n\u001b[0;32m----> 1\u001b[0;31m \u001b[0mentity\u001b[0m \u001b[0;34m=\u001b[0m \u001b[0mdata\u001b[0m\u001b[0;34m[\u001b[0m\u001b[0;34m'results'\u001b[0m\u001b[0;34m]\u001b[0m\u001b[0;34m[\u001b[0m\u001b[0;36m0\u001b[0m\u001b[0;34m]\u001b[0m\u001b[0;34m[\u001b[0m\u001b[0;34m'entity'\u001b[0m\u001b[0;34m]\u001b[0m\u001b[0;34m\u001b[0m\u001b[0;34m\u001b[0m\u001b[0m\n\u001b[0m\u001b[1;32m      2\u001b[0m \u001b[0mentity\u001b[0m\u001b[0;34m\u001b[0m\u001b[0;34m\u001b[0m\u001b[0m\n",
            "\u001b[0;31mKeyError\u001b[0m: 'results'"
          ]
        }
      ]
    },
    {
      "cell_type": "markdown",
      "source": [],
      "metadata": {
        "id": "yKJuCXD9wHRC"
      }
    }
  ]
}